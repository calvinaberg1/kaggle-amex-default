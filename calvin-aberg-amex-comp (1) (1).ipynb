{
 "cells": [
  {
   "cell_type": "code",
   "execution_count": 1,
   "metadata": {
    "_cell_guid": "b1076dfc-b9ad-4769-8c92-a6c4dae69d19",
    "_uuid": "8f2839f25d086af736a60e9eeb907d3b93b6e0e5",
    "execution": {
     "iopub.execute_input": "2022-07-09T18:26:13.000502Z",
     "iopub.status.busy": "2022-07-09T18:26:12.999202Z",
     "iopub.status.idle": "2022-07-09T18:26:13.009346Z",
     "shell.execute_reply": "2022-07-09T18:26:13.008221Z",
     "shell.execute_reply.started": "2022-07-09T18:26:13.000458Z"
    }
   },
   "outputs": [],
   "source": [
    "# This Python 3 environment comes with many helpful analytics libraries installed\n",
    "# It is defined by the kaggle/python Docker image: https://github.com/kaggle/docker-python\n",
    "# For example, here's several helpful packages to load\n",
    "\n",
    "import numpy as np # linear algebra\n",
    "import pandas as pd # data processing, CSV file I/O (e.g. pd.read_csv)\n",
    "\n",
    "# Input data files are available in the read-only \"../input/\" directory\n",
    "# For example, running this (by clicking run or pressing Shift+Enter) will list all files under the input directory\n",
    "\n",
    "import os\n",
    "for dirname, _, filenames in os.walk('/kaggle/input'):\n",
    "    for filename in filenames:\n",
    "        print(os.path.join(dirname, filename))\n",
    "\n",
    "# You can write up to 20GB to the current directory (/kaggle/working/) that gets preserved as output when you create a version using \"Save & Run All\" \n",
    "# You can also write temporary files to /kaggle/temp/, but they won't be saved outside of the current session"
   ]
  },
  {
   "cell_type": "code",
   "execution_count": 2,
   "metadata": {
    "execution": {
     "iopub.execute_input": "2022-07-09T18:26:13.166449Z",
     "iopub.status.busy": "2022-07-09T18:26:13.165582Z",
     "iopub.status.idle": "2022-07-09T18:26:14.387351Z",
     "shell.execute_reply": "2022-07-09T18:26:14.385862Z",
     "shell.execute_reply.started": "2022-07-09T18:26:13.166404Z"
    }
   },
   "outputs": [
    {
     "name": "stderr",
     "output_type": "stream",
     "text": [
      "'kaggle' is not recognized as an internal or external command,\n",
      "operable program or batch file.\n"
     ]
    }
   ],
   "source": [
    "!kaggle competitions download -c amex-default-prediction"
   ]
  },
  {
   "cell_type": "markdown",
   "metadata": {},
   "source": [
    "### Read Ins"
   ]
  },
  {
   "cell_type": "code",
   "execution_count": null,
   "metadata": {
    "execution": {
     "iopub.execute_input": "2022-07-09T18:26:14.390607Z",
     "iopub.status.busy": "2022-07-09T18:26:14.390079Z"
    }
   },
   "outputs": [],
   "source": [
    "#train = pd.read_csv('../input/amex-default-prediction/train_data.csv')\n",
    "#test = pd.read_csv('../input/amex-default-prediction/test_data.csv')\n",
    "#train_y = pd.read_csv('../input/amex-default-prediction/train_labels.csv')"
   ]
  },
  {
   "cell_type": "code",
   "execution_count": null,
   "metadata": {},
   "outputs": [],
   "source": [
    "train = pd.read_csv('C:/Users/calvi/Downloads/train_data_amex.csv/train_data.csv')\n",
    "train_y = pd.read_csv('C:/Users/calvi/Downloads/train_labels_amex.csv/train_labels.csv')"
   ]
  },
  {
   "cell_type": "markdown",
   "metadata": {},
   "source": [
    "## EDA"
   ]
  },
  {
   "cell_type": "code",
   "execution_count": null,
   "metadata": {},
   "outputs": [],
   "source": [
    "train.head()"
   ]
  },
  {
   "cell_type": "code",
   "execution_count": null,
   "metadata": {},
   "outputs": [],
   "source": [
    "train.head()\n",
    "train.columns\n",
    "\n",
    "coef_dict = {}\n",
    "for col in [train.columns]:\n",
    "    coef_dict[col] = np.corrcoef(x = train[col],y = train_y)\n",
    "\n",
    "{k: v for k, v in sorted(coef_dict.items(), key=lambda item: item[1])}\n",
    "\n",
    "np.corrcoef()"
   ]
  },
  {
   "cell_type": "code",
   "execution_count": null,
   "metadata": {},
   "outputs": [],
   "source": []
  },
  {
   "cell_type": "code",
   "execution_count": null,
   "metadata": {},
   "outputs": [],
   "source": []
  },
  {
   "cell_type": "code",
   "execution_count": null,
   "metadata": {},
   "outputs": [],
   "source": [
    "import lightgbm as lgb\n",
    "\n",
    "data_trained = lgb.Dataset(train, train_y)\n",
    "\n",
    "params = {}\n",
    "params['learning_rate'] = .001\n",
    "params['boosting_type'] = 'gbdt'\n",
    "params['objective'] = 'binary'\n",
    "params['metric'] = 'binary_logloss'\n",
    "params['num_leaves'] = 31\n",
    "params['min_data'] = 20\n",
    "params['max_depth'] = 50\n",
    "\n",
    "\n",
    "\n"
   ]
  },
  {
   "cell_type": "code",
   "execution_count": null,
   "metadata": {},
   "outputs": [],
   "source": []
  }
 ],
 "metadata": {
  "kernelspec": {
   "display_name": "Python 3",
   "language": "python",
   "name": "python3"
  },
  "language_info": {
   "codemirror_mode": {
    "name": "ipython",
    "version": 3
   },
   "file_extension": ".py",
   "mimetype": "text/x-python",
   "name": "python",
   "nbconvert_exporter": "python",
   "pygments_lexer": "ipython3",
   "version": "3.8.5"
  }
 },
 "nbformat": 4,
 "nbformat_minor": 4
}
